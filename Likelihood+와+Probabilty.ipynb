{
 "cells": [
  {
   "cell_type": "markdown",
   "metadata": {},
   "source": [
    "# likelihood와 probability의 차이"
   ]
  },
  {
   "cell_type": "markdown",
   "metadata": {},
   "source": [
    "# 확률(Probablity)"
   ]
  },
  {
   "cell_type": "markdown",
   "metadata": {},
   "source": [
    "동전 던지기에서 나올 수 있는 경우의 수는 앞/뒷면으로 '공평한 동전'일 경우 앞면이 나올 확률은 1/2이고 뒷면이 나올 확률 또한 1/2/로 총합은 1이다.\n",
    "\n",
    "동전을 10번 던졌을 때 앞면이 0번 나올 확률은 0.001, 5번 나올 확률은 0.5, 10번 나올 확률은 0.001.\n",
    "\n",
    " 이런 식으로 모든 경우의 수를 합하면 총 합은 1이 된다"
   ]
  },
  {
   "cell_type": "code",
   "execution_count": 19,
   "metadata": {
    "collapsed": true
   },
   "outputs": [],
   "source": [
    "%matplotlib inline\n",
    "import numpy as np\n",
    "import pandas as pd\n",
    "import matplotlib.pyplot as plt\n",
    "import seaborn as sns\n",
    "import scipy as sp"
   ]
  },
  {
   "cell_type": "code",
   "execution_count": 18,
   "metadata": {},
   "outputs": [
    {
     "data": {
      "text/plain": [
       "<matplotlib.axes._subplots.AxesSubplot at 0x18e8e0e3ef0>"
      ]
     },
     "execution_count": 18,
     "metadata": {},
     "output_type": "execute_result"
    },
    {
     "data": {
      "image/png": "[encoded data removed]",
      "text/plain": [
       "<matplotlib.figure.Figure at 0x18e8e793320>"
      ]
     },
     "metadata": {},
     "output_type": "display_data"
    }
   ],
   "source": [
    "#주사위 확률\n",
    "dice = {1:1/6,2:1/6,3:1/6,4:1/6,5:1/6,6:1/6}\n",
    "dice = pd.DataFrame.from_dict(dice,orient='index')\n",
    "dice = dice.reset_index()\n",
    "dice.columns = ['num','pro']\n",
    "sns.barplot(dice['num'],dice['pro'])"
   ]
  },
  {
   "cell_type": "code",
   "execution_count": 20,
   "metadata": {},
   "outputs": [
    {
     "data": {
      "text/plain": [
       "<Container object of 11 artists>"
      ]
     },
     "execution_count": 20,
     "metadata": {},
     "output_type": "execute_result"
    },
    {
     "data": {
      "image/png": "[encoded data removed]",
      "text/plain": [
       "<matplotlib.figure.Figure at 0x18e919bcba8>"
      ]
     },
     "metadata": {},
     "output_type": "display_data"
    }
   ],
   "source": [
    "#동전 10번 던졌을때 이항분포\n",
    "N = 10\n",
    "theta = 0.5\n",
    "rv = sp.stats.binom(N,theta)\n",
    "xx = np.arange(N+1)\n",
    "plt.bar(xx,rv.pmf(xx))"
   ]
  },
  {
   "cell_type": "markdown",
   "metadata": {},
   "source": [
    "## 가능도(Likelihood)"
   ]
  },
  {
   "cell_type": "markdown",
   "metadata": {},
   "source": [
    "연속사건에서는 특정 사건이 일어날 확률이 전부 0으로 계산되기 때문에 사건들이 일어날 가능성을 비교하는 것이 불가능하다. 그래서 '가능도'라는 개념을 적용해 이를 비교한다."
   ]
  },
  {
   "cell_type": "code",
   "execution_count": 25,
   "metadata": {},
   "outputs": [
    {
     "data": {
      "text/plain": [
       "[<matplotlib.lines.Line2D at 0x18e91874908>]"
      ]
     },
     "execution_count": 25,
     "metadata": {},
     "output_type": "execute_result"
    },
    {
     "data": {
      "image/png": "[encoded data removed]",
      "text/plain": [
       "<matplotlib.figure.Figure at 0x18e9125a390>"
      ]
     },
     "metadata": {},
     "output_type": "display_data"
    }
   ],
   "source": [
    "mu =0\n",
    "std =1\n",
    "rv = sp.stats.norm(mu,std)\n",
    "xx = np.linspace(-5,5,100)\n",
    "plt.figure(figsize=(8,3))\n",
    "plt.plot(xx,rv.pdf(xx))"
   ]
  },
  {
   "cell_type": "markdown",
   "metadata": {},
   "source": [
    "그래프의 y값을 가능도라고 생각하면 된다. 즉 y값이 높을수록 일어날 가능성이 높은 사건인 것이다.\n",
    "\n",
    "주사위나 동전을 던지는 경우같이 Y값이 각 사건이 일어날 확률을 나타낼때는 가능도 = 확률이 되어 확률이 높을수록 일어날 가능성이 높다.\n",
    "\n",
    "한편 정규분포와 같이 연속사건인 경우 PDF의 값이 바로 y가 되어 0에 해당하는 PDF값이 0.4로 1에 해당하는 0.24보다 높다."
   ]
  },
  {
   "cell_type": "markdown",
   "metadata": {},
   "source": []
  }
 ],
 "metadata": {
  "kernelspec": {
   "display_name": "Python 3",
   "language": "python",
   "name": "python3"
  },
  "language_info": {
   "codemirror_mode": {
    "name": "ipython",
    "version": 3
   },
   "file_extension": ".py",
   "mimetype": "text/x-python",
   "name": "python",
   "nbconvert_exporter": "python",
   "pygments_lexer": "ipython3",
   "version": "3.6.3"
  }
 },
 "nbformat": 4,
 "nbformat_minor": 2
}
